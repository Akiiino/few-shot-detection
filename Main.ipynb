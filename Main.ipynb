{
 "cells": [
  {
   "cell_type": "code",
   "execution_count": 20,
   "metadata": {},
   "outputs": [],
   "source": [
    "import argparse\n",
    "import torch\n",
    "import torch.nn as nn\n",
    "import torch.nn.functional as F\n",
    "import torch.utils.data as data\n",
    "import torch.optim as optim\n",
    "\n",
    "from torchvision import datasets, transforms\n",
    "from torch.autograd import Variable\n",
    "\n",
    "import os\n",
    "import os.path\n",
    "\n",
    "import pandas as pd\n",
    "import numpy as np\n",
    "\n",
    "from PIL import Image\n",
    "from collections import namedtuple\n",
    "\n",
    "from tqdm import trange as trange, tqdm as tqdm\n",
    "\n",
    "np.random.seed(1337)"
   ]
  },
  {
   "cell_type": "code",
   "execution_count": 2,
   "metadata": {},
   "outputs": [],
   "source": [
    "import dataset"
   ]
  },
  {
   "cell_type": "code",
   "execution_count": 3,
   "metadata": {},
   "outputs": [],
   "source": [
    "USE_CUDA = False\n",
    "n_classes = 5"
   ]
  },
  {
   "cell_type": "code",
   "execution_count": 205,
   "metadata": {},
   "outputs": [],
   "source": [
    "class HeatmapNet(nn.Module):\n",
    "    def __init__(self, reg_coef=0.5, verbose=False):\n",
    "        super(HeatmapNet, self).__init__()\n",
    "        self.extractor = nn.Sequential(\n",
    "            nn.BatchNorm2d(3),\n",
    "            nn.Conv2d(3, 30, kernel_size=3, padding=1),\n",
    "            nn.BatchNorm2d(30),\n",
    "            nn.MaxPool2d(2),\n",
    "            nn.ReLU(),\n",
    "            nn.Conv2d(30, 45, kernel_size=3, padding=1),\n",
    "            nn.BatchNorm2d(45),\n",
    "            nn.MaxPool2d(2),\n",
    "            nn.ReLU(),\n",
    "            nn.Conv2d(45, 65, kernel_size=3, padding=1),\n",
    "            nn.BatchNorm2d(65),\n",
    "            nn.ReLU(),\n",
    "            nn.Conv2d(65, n_classes, kernel_size=1, padding=0),\n",
    "        )\n",
    "        \n",
    "        self.verbose = verbose\n",
    "        self.reg_coef = reg_coef\n",
    "\n",
    "\n",
    "    def get_heatmap(self, x):\n",
    "        heatmap = self.extractor(x)\n",
    "        \n",
    "        return heatmap\n",
    "\n",
    "    \n",
    "    def forward(self, x):\n",
    "        heatmap = self.extractor(x)\n",
    "        \n",
    "        x = F.avg_pool2d(heatmap, heatmap.shape[-2:])\n",
    "        x = x.view(x.shape[0], -1)\n",
    "        \n",
    "        return x\n",
    "    \n",
    "    \n",
    "    def _get_loss(self, pred, target, heatmap=None):\n",
    "        loss = F.cross_entropy(pred, target)\n",
    "        \n",
    "        if self.training:\n",
    "            reg_loss = self.reg_coef * (heatmap.abs()).mean()\n",
    "            loss += reg_loss\n",
    "            \n",
    "        return loss\n",
    "\n",
    "    \n",
    "    def _get_acc(self, pred, target):\n",
    "        pred = pred.data.max(1, keepdim=True)[1]\n",
    "        acc = pred.eq(target.data.view_as(pred)).float().mean()\n",
    "\n",
    "        return acc\n",
    "\n",
    "\n",
    "    def get_metrics(self, input_, target):\n",
    "        input_ = Variable(input_)\n",
    "        target = Variable(target)\n",
    "        \n",
    "        heatmap = self.get_heatmap(input_)\n",
    "        pred = F.avg_pool2d(heatmap, heatmap.shape[-2:]).view(heatmap.shape[0], -1)\n",
    "        \n",
    "        return self._get_loss(pred, target, heatmap), self._get_acc(pred, target)\n",
    "\n",
    "\n",
    "    def train_epoch(self, batch_iter, optimizer):\n",
    "        self.train()\n",
    "\n",
    "        smooth_loss = None\n",
    "        smooth_acc = None\n",
    "\n",
    "        def update_smooth(smooth, val, gamma=0.99):\n",
    "            if smooth is not None:\n",
    "                return (smooth * gamma + val * (1-gamma))\n",
    "            else:\n",
    "                return val\n",
    "\n",
    "        if self.verbose:\n",
    "            batch_iter = tqdm(batch_iter)\n",
    "        else:\n",
    "            batch_iter = batch_iter\n",
    "\n",
    "        for data, target in batch_iter:\n",
    "            optimizer.zero_grad()\n",
    "\n",
    "            if USE_CUDA:\n",
    "                data = data.cuda()\n",
    "                target = target.cuda()\n",
    "\n",
    "            loss, accuracy = self.get_metrics(data, target)        \n",
    "\n",
    "            loss.backward()\n",
    "            optimizer.step()\n",
    "\n",
    "            smooth_loss = update_smooth(smooth_loss, loss.data.mean())\n",
    "            smooth_acc = update_smooth(smooth_acc, accuracy)\n",
    "\n",
    "            if self.verbose:\n",
    "                batch_iter.set_postfix_str('loss: {:.6f} | acc: {:.6f}'.format(smooth_loss, smooth_acc))\n",
    "\n",
    "        return smooth_loss, smooth_acc\n",
    "\n",
    "    def test_epoch(self, test_batch_iter):\n",
    "        model.eval()\n",
    "        test_loss = 0\n",
    "        correct = 0\n",
    "        for data, target in test_batch_iter:\n",
    "            if USE_CUDA:\n",
    "                data = data.cuda()\n",
    "                target = target.cuda()\n",
    "\n",
    "            loss, accuracy = model.get_metrics(data, target)\n",
    "\n",
    "            test_loss += loss.data[0] * len(data)\n",
    "            correct += accuracy * len(data)\n",
    "\n",
    "        test_loss /= len(test_batch_iter.dataset)\n",
    "        correct /= len(test_batch_iter.dataset)\n",
    "        \n",
    "        return test_loss, correct\n",
    "\n",
    "\n",
    "    def train_epochs(self, batch_iter, test_batch_iter, optimizer, epochs=10, verbose=False):\n",
    "        model.train()\n",
    "\n",
    "        for epoch in range(epochs):\n",
    "            self.train_epoch(batch_iter, optimizer)\n",
    "            loss, acc = self.test_epoch(test_batch_iter)\n",
    "            if self.verbose:\n",
    "                print('epoch {} | loss: {:.6f} | accuracy: {:.2f}%\\n'.format(epoch, loss, 100*acc))\n"
   ]
  },
  {
   "cell_type": "code",
   "execution_count": 206,
   "metadata": {},
   "outputs": [],
   "source": [
    "t = transforms.Compose([\n",
    "    transforms.Resize((32, 32)),\n",
    "    transforms.ToTensor()\n",
    "])\n",
    "\n",
    "train_loader = data.DataLoader(datasets.ImageFolder(\"imagenet/train/\", transform=t), 32, shuffle=True)\n",
    "test_loader = data.DataLoader(datasets.ImageFolder(\"imagenet/val/\", transform=t), 32, shuffle=True)"
   ]
  },
  {
   "cell_type": "code",
   "execution_count": 207,
   "metadata": {},
   "outputs": [],
   "source": [
    "n_classes = len(train_loader.dataset.classes)"
   ]
  },
  {
   "cell_type": "code",
   "execution_count": 209,
   "metadata": {},
   "outputs": [],
   "source": [
    "# train_loader, test_loader = dataset.make_split(\"proc_data\", n_classes=n_classes, examples_per_class=3)"
   ]
  },
  {
   "cell_type": "code",
   "execution_count": 210,
   "metadata": {},
   "outputs": [],
   "source": [
    "model = HeatmapNet(0, verbose=True)\n",
    "\n",
    "if USE_CUDA:\n",
    "    model.cuda()\n",
    "\n",
    "optimizer = optim.Adam(model.parameters())"
   ]
  },
  {
   "cell_type": "code",
   "execution_count": 211,
   "metadata": {},
   "outputs": [
    {
     "data": {
      "application/vnd.jupyter.widget-view+json": {
       "model_id": "af1a36678edf467398d20a936d10d4a2",
       "version_major": 2,
       "version_minor": 0
      },
      "text/html": [
       "<p>Failed to display Jupyter Widget of type <code>HBox</code>.</p>\n",
       "<p>\n",
       "  If you're reading this message in the Jupyter Notebook or JupyterLab Notebook, it may mean\n",
       "  that the widgets JavaScript is still loading. If this message persists, it\n",
       "  likely means that the widgets JavaScript library is either not installed or\n",
       "  not enabled. See the <a href=\"https://ipywidgets.readthedocs.io/en/stable/user_install.html\">Jupyter\n",
       "  Widgets Documentation</a> for setup instructions.\n",
       "</p>\n",
       "<p>\n",
       "  If you're reading this message in another frontend (for example, a static\n",
       "  rendering on GitHub or <a href=\"https://nbviewer.jupyter.org/\">NBViewer</a>),\n",
       "  it may mean that your frontend doesn't currently support widgets.\n",
       "</p>\n"
      ],
      "text/plain": [
       "HBox(children=(IntProgress(value=0, max=3125), HTML(value='')))"
      ]
     },
     "metadata": {},
     "output_type": "display_data"
    },
    {
     "name": "stdout",
     "output_type": "stream",
     "text": [
      "epoch 0 | loss: 7.019352 | accuracy: 0.46%\n",
      "\n"
     ]
    },
    {
     "data": {
      "application/vnd.jupyter.widget-view+json": {
       "model_id": "309d3a8c69964287846df0527496913d",
       "version_major": 2,
       "version_minor": 0
      },
      "text/html": [
       "<p>Failed to display Jupyter Widget of type <code>HBox</code>.</p>\n",
       "<p>\n",
       "  If you're reading this message in the Jupyter Notebook or JupyterLab Notebook, it may mean\n",
       "  that the widgets JavaScript is still loading. If this message persists, it\n",
       "  likely means that the widgets JavaScript library is either not installed or\n",
       "  not enabled. See the <a href=\"https://ipywidgets.readthedocs.io/en/stable/user_install.html\">Jupyter\n",
       "  Widgets Documentation</a> for setup instructions.\n",
       "</p>\n",
       "<p>\n",
       "  If you're reading this message in another frontend (for example, a static\n",
       "  rendering on GitHub or <a href=\"https://nbviewer.jupyter.org/\">NBViewer</a>),\n",
       "  it may mean that your frontend doesn't currently support widgets.\n",
       "</p>\n"
      ],
      "text/plain": [
       "HBox(children=(IntProgress(value=0, max=3125), HTML(value='')))"
      ]
     },
     "metadata": {},
     "output_type": "display_data"
    },
    {
     "name": "stdout",
     "output_type": "stream",
     "text": [
      "epoch 1 | loss: 9.281049 | accuracy: 0.41%\n",
      "\n"
     ]
    },
    {
     "data": {
      "application/vnd.jupyter.widget-view+json": {
       "model_id": "1f2e60ffafca4c79bafd939e3457621b",
       "version_major": 2,
       "version_minor": 0
      },
      "text/html": [
       "<p>Failed to display Jupyter Widget of type <code>HBox</code>.</p>\n",
       "<p>\n",
       "  If you're reading this message in the Jupyter Notebook or JupyterLab Notebook, it may mean\n",
       "  that the widgets JavaScript is still loading. If this message persists, it\n",
       "  likely means that the widgets JavaScript library is either not installed or\n",
       "  not enabled. See the <a href=\"https://ipywidgets.readthedocs.io/en/stable/user_install.html\">Jupyter\n",
       "  Widgets Documentation</a> for setup instructions.\n",
       "</p>\n",
       "<p>\n",
       "  If you're reading this message in another frontend (for example, a static\n",
       "  rendering on GitHub or <a href=\"https://nbviewer.jupyter.org/\">NBViewer</a>),\n",
       "  it may mean that your frontend doesn't currently support widgets.\n",
       "</p>\n"
      ],
      "text/plain": [
       "HBox(children=(IntProgress(value=0, max=3125), HTML(value='')))"
      ]
     },
     "metadata": {},
     "output_type": "display_data"
    },
    {
     "name": "stdout",
     "output_type": "stream",
     "text": [
      "epoch 2 | loss: 9.227313 | accuracy: 0.57%\n",
      "\n"
     ]
    },
    {
     "data": {
      "application/vnd.jupyter.widget-view+json": {
       "model_id": "6eceb2f0472f40a0beab4b37cb5076fe",
       "version_major": 2,
       "version_minor": 0
      },
      "text/html": [
       "<p>Failed to display Jupyter Widget of type <code>HBox</code>.</p>\n",
       "<p>\n",
       "  If you're reading this message in the Jupyter Notebook or JupyterLab Notebook, it may mean\n",
       "  that the widgets JavaScript is still loading. If this message persists, it\n",
       "  likely means that the widgets JavaScript library is either not installed or\n",
       "  not enabled. See the <a href=\"https://ipywidgets.readthedocs.io/en/stable/user_install.html\">Jupyter\n",
       "  Widgets Documentation</a> for setup instructions.\n",
       "</p>\n",
       "<p>\n",
       "  If you're reading this message in another frontend (for example, a static\n",
       "  rendering on GitHub or <a href=\"https://nbviewer.jupyter.org/\">NBViewer</a>),\n",
       "  it may mean that your frontend doesn't currently support widgets.\n",
       "</p>\n"
      ],
      "text/plain": [
       "HBox(children=(IntProgress(value=0, max=3125), HTML(value='')))"
      ]
     },
     "metadata": {},
     "output_type": "display_data"
    },
    {
     "name": "stdout",
     "output_type": "stream",
     "text": [
      "epoch 3 | loss: 9.477375 | accuracy: 0.35%\n",
      "\n"
     ]
    },
    {
     "data": {
      "application/vnd.jupyter.widget-view+json": {
       "model_id": "7e550e9fae514b07b284f8535ac674ae",
       "version_major": 2,
       "version_minor": 0
      },
      "text/html": [
       "<p>Failed to display Jupyter Widget of type <code>HBox</code>.</p>\n",
       "<p>\n",
       "  If you're reading this message in the Jupyter Notebook or JupyterLab Notebook, it may mean\n",
       "  that the widgets JavaScript is still loading. If this message persists, it\n",
       "  likely means that the widgets JavaScript library is either not installed or\n",
       "  not enabled. See the <a href=\"https://ipywidgets.readthedocs.io/en/stable/user_install.html\">Jupyter\n",
       "  Widgets Documentation</a> for setup instructions.\n",
       "</p>\n",
       "<p>\n",
       "  If you're reading this message in another frontend (for example, a static\n",
       "  rendering on GitHub or <a href=\"https://nbviewer.jupyter.org/\">NBViewer</a>),\n",
       "  it may mean that your frontend doesn't currently support widgets.\n",
       "</p>\n"
      ],
      "text/plain": [
       "HBox(children=(IntProgress(value=0, max=3125), HTML(value='')))"
      ]
     },
     "metadata": {},
     "output_type": "display_data"
    },
    {
     "name": "stdout",
     "output_type": "stream",
     "text": [
      "epoch 4 | loss: 9.772129 | accuracy: 0.50%\n",
      "\n"
     ]
    },
    {
     "data": {
      "application/vnd.jupyter.widget-view+json": {
       "model_id": "668aa0eb95564fe2844bda898df7e91c",
       "version_major": 2,
       "version_minor": 0
      },
      "text/html": [
       "<p>Failed to display Jupyter Widget of type <code>HBox</code>.</p>\n",
       "<p>\n",
       "  If you're reading this message in the Jupyter Notebook or JupyterLab Notebook, it may mean\n",
       "  that the widgets JavaScript is still loading. If this message persists, it\n",
       "  likely means that the widgets JavaScript library is either not installed or\n",
       "  not enabled. See the <a href=\"https://ipywidgets.readthedocs.io/en/stable/user_install.html\">Jupyter\n",
       "  Widgets Documentation</a> for setup instructions.\n",
       "</p>\n",
       "<p>\n",
       "  If you're reading this message in another frontend (for example, a static\n",
       "  rendering on GitHub or <a href=\"https://nbviewer.jupyter.org/\">NBViewer</a>),\n",
       "  it may mean that your frontend doesn't currently support widgets.\n",
       "</p>\n"
      ],
      "text/plain": [
       "HBox(children=(IntProgress(value=0, max=3125), HTML(value='')))"
      ]
     },
     "metadata": {},
     "output_type": "display_data"
    },
    {
     "name": "stdout",
     "output_type": "stream",
     "text": [
      "epoch 5 | loss: 9.244787 | accuracy: 0.74%\n",
      "\n"
     ]
    },
    {
     "data": {
      "application/vnd.jupyter.widget-view+json": {
       "model_id": "d8dec2c627b14c888a2aaf6b8f199fea",
       "version_major": 2,
       "version_minor": 0
      },
      "text/html": [
       "<p>Failed to display Jupyter Widget of type <code>HBox</code>.</p>\n",
       "<p>\n",
       "  If you're reading this message in the Jupyter Notebook or JupyterLab Notebook, it may mean\n",
       "  that the widgets JavaScript is still loading. If this message persists, it\n",
       "  likely means that the widgets JavaScript library is either not installed or\n",
       "  not enabled. See the <a href=\"https://ipywidgets.readthedocs.io/en/stable/user_install.html\">Jupyter\n",
       "  Widgets Documentation</a> for setup instructions.\n",
       "</p>\n",
       "<p>\n",
       "  If you're reading this message in another frontend (for example, a static\n",
       "  rendering on GitHub or <a href=\"https://nbviewer.jupyter.org/\">NBViewer</a>),\n",
       "  it may mean that your frontend doesn't currently support widgets.\n",
       "</p>\n"
      ],
      "text/plain": [
       "HBox(children=(IntProgress(value=0, max=3125), HTML(value='')))"
      ]
     },
     "metadata": {},
     "output_type": "display_data"
    },
    {
     "name": "stdout",
     "output_type": "stream",
     "text": [
      "epoch 6 | loss: 9.838224 | accuracy: 0.35%\n",
      "\n"
     ]
    },
    {
     "data": {
      "application/vnd.jupyter.widget-view+json": {
       "model_id": "3fe34b65b1d944eaab38d3419392ce99",
       "version_major": 2,
       "version_minor": 0
      },
      "text/html": [
       "<p>Failed to display Jupyter Widget of type <code>HBox</code>.</p>\n",
       "<p>\n",
       "  If you're reading this message in the Jupyter Notebook or JupyterLab Notebook, it may mean\n",
       "  that the widgets JavaScript is still loading. If this message persists, it\n",
       "  likely means that the widgets JavaScript library is either not installed or\n",
       "  not enabled. See the <a href=\"https://ipywidgets.readthedocs.io/en/stable/user_install.html\">Jupyter\n",
       "  Widgets Documentation</a> for setup instructions.\n",
       "</p>\n",
       "<p>\n",
       "  If you're reading this message in another frontend (for example, a static\n",
       "  rendering on GitHub or <a href=\"https://nbviewer.jupyter.org/\">NBViewer</a>),\n",
       "  it may mean that your frontend doesn't currently support widgets.\n",
       "</p>\n"
      ],
      "text/plain": [
       "HBox(children=(IntProgress(value=0, max=3125), HTML(value='')))"
      ]
     },
     "metadata": {},
     "output_type": "display_data"
    },
    {
     "name": "stdout",
     "output_type": "stream",
     "text": [
      "epoch 7 | loss: 9.230210 | accuracy: 0.75%\n",
      "\n"
     ]
    },
    {
     "data": {
      "application/vnd.jupyter.widget-view+json": {
       "model_id": "d97c44f9294c4dac91df2683442fa37d",
       "version_major": 2,
       "version_minor": 0
      },
      "text/html": [
       "<p>Failed to display Jupyter Widget of type <code>HBox</code>.</p>\n",
       "<p>\n",
       "  If you're reading this message in the Jupyter Notebook or JupyterLab Notebook, it may mean\n",
       "  that the widgets JavaScript is still loading. If this message persists, it\n",
       "  likely means that the widgets JavaScript library is either not installed or\n",
       "  not enabled. See the <a href=\"https://ipywidgets.readthedocs.io/en/stable/user_install.html\">Jupyter\n",
       "  Widgets Documentation</a> for setup instructions.\n",
       "</p>\n",
       "<p>\n",
       "  If you're reading this message in another frontend (for example, a static\n",
       "  rendering on GitHub or <a href=\"https://nbviewer.jupyter.org/\">NBViewer</a>),\n",
       "  it may mean that your frontend doesn't currently support widgets.\n",
       "</p>\n"
      ],
      "text/plain": [
       "HBox(children=(IntProgress(value=0, max=3125), HTML(value='')))"
      ]
     },
     "metadata": {},
     "output_type": "display_data"
    },
    {
     "name": "stdout",
     "output_type": "stream",
     "text": [
      "epoch 8 | loss: 9.720378 | accuracy: 0.59%\n",
      "\n"
     ]
    },
    {
     "data": {
      "application/vnd.jupyter.widget-view+json": {
       "model_id": "79d9869f7893408e89dc27d76c2c9b72",
       "version_major": 2,
       "version_minor": 0
      },
      "text/html": [
       "<p>Failed to display Jupyter Widget of type <code>HBox</code>.</p>\n",
       "<p>\n",
       "  If you're reading this message in the Jupyter Notebook or JupyterLab Notebook, it may mean\n",
       "  that the widgets JavaScript is still loading. If this message persists, it\n",
       "  likely means that the widgets JavaScript library is either not installed or\n",
       "  not enabled. See the <a href=\"https://ipywidgets.readthedocs.io/en/stable/user_install.html\">Jupyter\n",
       "  Widgets Documentation</a> for setup instructions.\n",
       "</p>\n",
       "<p>\n",
       "  If you're reading this message in another frontend (for example, a static\n",
       "  rendering on GitHub or <a href=\"https://nbviewer.jupyter.org/\">NBViewer</a>),\n",
       "  it may mean that your frontend doesn't currently support widgets.\n",
       "</p>\n"
      ],
      "text/plain": [
       "HBox(children=(IntProgress(value=0, max=3125), HTML(value='')))"
      ]
     },
     "metadata": {},
     "output_type": "display_data"
    },
    {
     "name": "stdout",
     "output_type": "stream",
     "text": [
      "epoch 9 | loss: 9.774218 | accuracy: 0.76%\n",
      "\n"
     ]
    },
    {
     "ename": "NameError",
     "evalue": "name 'smooth_loss' is not defined",
     "output_type": "error",
     "traceback": [
      "\u001b[0;31m---------------------------------------------------------------------------\u001b[0m",
      "\u001b[0;31mNameError\u001b[0m                                 Traceback (most recent call last)",
      "\u001b[0;32m<ipython-input-211-1f5d37c6fc59>\u001b[0m in \u001b[0;36m<module>\u001b[0;34m()\u001b[0m\n\u001b[0;32m----> 1\u001b[0;31m \u001b[0mmodel\u001b[0m\u001b[0;34m.\u001b[0m\u001b[0mtrain_epochs\u001b[0m\u001b[0;34m(\u001b[0m\u001b[0mtrain_loader\u001b[0m\u001b[0;34m,\u001b[0m \u001b[0mtest_loader\u001b[0m\u001b[0;34m,\u001b[0m \u001b[0moptimizer\u001b[0m\u001b[0;34m,\u001b[0m \u001b[0mverbose\u001b[0m\u001b[0;34m=\u001b[0m\u001b[0;32mTrue\u001b[0m\u001b[0;34m)\u001b[0m\u001b[0;34m\u001b[0m\u001b[0m\n\u001b[0m",
      "\u001b[0;32m<ipython-input-205-36e143594611>\u001b[0m in \u001b[0;36mtrain_epochs\u001b[0;34m(self, batch_iter, test_batch_iter, optimizer, epochs, verbose)\u001b[0m\n\u001b[1;32m    130\u001b[0m                 \u001b[0mprint\u001b[0m\u001b[0;34m(\u001b[0m\u001b[0;34m'epoch {} | loss: {:.6f} | accuracy: {:.2f}%\\n'\u001b[0m\u001b[0;34m.\u001b[0m\u001b[0mformat\u001b[0m\u001b[0;34m(\u001b[0m\u001b[0mepoch\u001b[0m\u001b[0;34m,\u001b[0m \u001b[0mloss\u001b[0m\u001b[0;34m,\u001b[0m \u001b[0;36m100\u001b[0m\u001b[0;34m*\u001b[0m\u001b[0macc\u001b[0m\u001b[0;34m)\u001b[0m\u001b[0;34m)\u001b[0m\u001b[0;34m\u001b[0m\u001b[0m\n\u001b[1;32m    131\u001b[0m \u001b[0;34m\u001b[0m\u001b[0m\n\u001b[0;32m--> 132\u001b[0;31m         \u001b[0;32mreturn\u001b[0m \u001b[0msmooth_loss\u001b[0m\u001b[0;34m,\u001b[0m \u001b[0msmooth_acc\u001b[0m\u001b[0;34m\u001b[0m\u001b[0m\n\u001b[0m",
      "\u001b[0;31mNameError\u001b[0m: name 'smooth_loss' is not defined"
     ]
    }
   ],
   "source": [
    "model.train_epochs(train_loader, test_loader, optimizer, verbose=True, epochs=100)"
   ]
  },
  {
   "cell_type": "code",
   "execution_count": 212,
   "metadata": {},
   "outputs": [
    {
     "ename": "SystemExit",
     "evalue": "",
     "output_type": "error",
     "traceback": [
      "An exception has occurred, use %tb to see the full traceback.\n",
      "\u001b[0;31mSystemExit\u001b[0m\n"
     ]
    },
    {
     "name": "stderr",
     "output_type": "stream",
     "text": [
      "/Users/akiiino/.miniconda3/lib/python3.6/site-packages/IPython/core/interactiveshell.py:2918: UserWarning: To exit: use 'exit', 'quit', or Ctrl-D.\n",
      "  warn(\"To exit: use 'exit', 'quit', or Ctrl-D.\", stacklevel=1)\n"
     ]
    }
   ],
   "source": [
    "import sys\n",
    "sys.exit()"
   ]
  },
  {
   "cell_type": "code",
   "execution_count": 13,
   "metadata": {},
   "outputs": [],
   "source": [
    "def train(loader, epoch, k=10, verbose=True):\n",
    "    model.train()\n",
    "    \n",
    "    smooth_loss = None\n",
    "    smooth_acc = None\n",
    "    \n",
    "    def update_smooth(smooth, val, gamma=0.99):\n",
    "        if smooth is not None:\n",
    "            return (smooth * gamma + val * (1-gamma))\n",
    "        else:\n",
    "            return val\n",
    "    \n",
    "    if verbose:\n",
    "        loader = tqdm(loader)\n",
    "    else:\n",
    "        loader = loader\n",
    "    \n",
    "    phi = model.state_dict()\n",
    "    \n",
    "    for tr_data in loader:\n",
    "        for i in range(k):\n",
    "            for batch in tr_data[:-1]:\n",
    "                optimizer.zero_grad()\n",
    "\n",
    "                target = torch.arange(batch.shape[0]).long()\n",
    "\n",
    "                if USE_CUDA:\n",
    "                    batch = batch.cuda()\n",
    "                    target = target.cuda()\n",
    "                \n",
    "                loss, accuracy = model.get_metrics(batch, target)        \n",
    "\n",
    "                loss.backward()\n",
    "                optimizer.step()\n",
    "\n",
    "        loss, accuracy = model.get_metrics(tr_data[-1], target)\n",
    "                \n",
    "        smooth_loss = update_smooth(smooth_loss, loss.data.mean())\n",
    "        smooth_acc = update_smooth(smooth_acc, accuracy)\n",
    "        \n",
    "        W = model.state_dict()\n",
    "        \n",
    "        phi = {\n",
    "            m: phi[m] + (W[m] - phi[m]) / k\n",
    "            for m in phi\n",
    "        }\n",
    "\n",
    "        model.load_state_dict(phi)\n",
    "        \n",
    "\n",
    "        if verbose:\n",
    "            loader.set_postfix_str('epoch: {} | loss: {:.6f} | acc: {:.6f}'.format(epoch, smooth_loss, smooth_acc))\n",
    "        \n",
    "    return smooth_loss, smooth_acc"
   ]
  },
  {
   "cell_type": "code",
   "execution_count": 14,
   "metadata": {},
   "outputs": [],
   "source": [
    "def mb_train(loader, epoch, k=10, meta_batch_size=2, verbose=True):\n",
    "    model.train()\n",
    "    \n",
    "    smooth_loss = None\n",
    "    smooth_acc = None\n",
    "    \n",
    "    def update_smooth(smooth, val, gamma=0.99):\n",
    "        if smooth is not None:\n",
    "            return (smooth * gamma + val * (1-gamma))\n",
    "        else:\n",
    "            return val\n",
    "    \n",
    "    if verbose:\n",
    "        loader = tqdm(loader)\n",
    "    else:\n",
    "        loader = loader\n",
    "    \n",
    "    phi = model.state_dict()\n",
    "    \n",
    "    for meta_batch, tr_data in enumerate(loader):\n",
    "        for i in range(k):\n",
    "            for batch in tr_data[:-1]:\n",
    "                optimizer.zero_grad()\n",
    "\n",
    "                target = torch.arange(batch.shape[0]).long()\n",
    "\n",
    "                if USE_CUDA:\n",
    "                    batch = batch.cuda()\n",
    "                    target = target.cuda()\n",
    "                \n",
    "                loss, accuracy = model.get_metrics(batch, target)        \n",
    "\n",
    "                loss.backward()\n",
    "                optimizer.step()\n",
    "\n",
    "        loss, accuracy = model.get_metrics(tr_data[-1], target)\n",
    "                \n",
    "        smooth_loss = update_smooth(smooth_loss, loss.data.mean())\n",
    "        smooth_acc = update_smooth(smooth_acc, accuracy)\n",
    "        \n",
    "        W = model.state_dict()\n",
    "        \n",
    "        if meta_batch % meta_batch_size == 0:\n",
    "            weight_diff = {\n",
    "                m: (W[m] - phi[m]) / k\n",
    "                for m in phi\n",
    "            }\n",
    "        else:\n",
    "            weight_diff = {\n",
    "                m: weight_diff[m] + (W[m] - phi[m]) / k\n",
    "                for m in phi\n",
    "            }\n",
    "\n",
    "        if (meta_batch + 1) % meta_batch_size == 0:\n",
    "            phi = {\n",
    "                m: phi[m] + weight_diff[m] / meta_batch_size\n",
    "                for m in phi\n",
    "            }\n",
    "\n",
    "            model.load_state_dict(phi)\n",
    "        \n",
    "\n",
    "        if verbose:\n",
    "            loader.set_postfix_str('epoch: {} | loss: {:.6f} | acc: {:.6f}'.format(epoch, smooth_loss, smooth_acc))\n",
    "        \n",
    "    return smooth_loss, smooth_acc"
   ]
  },
  {
   "cell_type": "code",
   "execution_count": 15,
   "metadata": {},
   "outputs": [],
   "source": [
    "def test(loader, k=10, name=\"Test set\"):\n",
    "    model.eval()\n",
    "    test_loss = 0\n",
    "    correct = 0\n",
    "    for test_task in loader:\n",
    "        state = model.state_dict()\n",
    "        \n",
    "        for i in range(k):\n",
    "            for batch in test_task[:-1]:\n",
    "                optimizer.zero_grad()\n",
    "\n",
    "                target = torch.arange(batch.shape[0]).long()\n",
    "\n",
    "                if USE_CUDA:\n",
    "                    batch = batch.cuda()\n",
    "                    target = target.cuda()\n",
    "                \n",
    "                loss, accuracy = model.get_metrics(batch, target)        \n",
    "\n",
    "                loss.backward()\n",
    "                optimizer.step()\n",
    "\n",
    "        loss, accuracy = model.get_metrics(test_task[-1], target)\n",
    "        test_loss += loss.data[0] * (len(test_task) - 1)\n",
    "        correct += accuracy * (len(test_task) - 1)\n",
    "\n",
    "        model.load_state_dict(state)\n",
    "        \n",
    "    test_loss /= len(loader.dataset)\n",
    "    print('{} | loss: {:.6f} | accuracy: {}/{} ({:.2f}%)\\n'.format(\n",
    "        name, test_loss, correct, len(loader.dataset),\n",
    "        100. * correct / len(loader.dataset)\n",
    "    ))\n",
    "    \n"
   ]
  },
  {
   "cell_type": "code",
   "execution_count": 16,
   "metadata": {
    "scrolled": true
   },
   "outputs": [
    {
     "data": {
      "application/vnd.jupyter.widget-view+json": {
       "model_id": "57462ee2827e483cb6fc95620401035f",
       "version_major": 2,
       "version_minor": 0
      },
      "text/html": [
       "<p>Failed to display Jupyter Widget of type <code>HBox</code>.</p>\n",
       "<p>\n",
       "  If you're reading this message in the Jupyter Notebook or JupyterLab Notebook, it may mean\n",
       "  that the widgets JavaScript is still loading. If this message persists, it\n",
       "  likely means that the widgets JavaScript library is either not installed or\n",
       "  not enabled. See the <a href=\"https://ipywidgets.readthedocs.io/en/stable/user_install.html\">Jupyter\n",
       "  Widgets Documentation</a> for setup instructions.\n",
       "</p>\n",
       "<p>\n",
       "  If you're reading this message in another frontend (for example, a static\n",
       "  rendering on GitHub or <a href=\"https://nbviewer.jupyter.org/\">NBViewer</a>),\n",
       "  it may mean that your frontend doesn't currently support widgets.\n",
       "</p>\n"
      ],
      "text/plain": [
       "HBox(children=(IntProgress(value=0, max=1000), HTML(value='')))"
      ]
     },
     "metadata": {},
     "output_type": "display_data"
    },
    {
     "name": "stdout",
     "output_type": "stream",
     "text": [
      "Test set | loss: nan | accuracy: 60.0000000000001/100 (60.00%)\n",
      "\n"
     ]
    },
    {
     "data": {
      "application/vnd.jupyter.widget-view+json": {
       "model_id": "e0ee00bddd714453b416944122b26373",
       "version_major": 2,
       "version_minor": 0
      },
      "text/html": [
       "<p>Failed to display Jupyter Widget of type <code>HBox</code>.</p>\n",
       "<p>\n",
       "  If you're reading this message in the Jupyter Notebook or JupyterLab Notebook, it may mean\n",
       "  that the widgets JavaScript is still loading. If this message persists, it\n",
       "  likely means that the widgets JavaScript library is either not installed or\n",
       "  not enabled. See the <a href=\"https://ipywidgets.readthedocs.io/en/stable/user_install.html\">Jupyter\n",
       "  Widgets Documentation</a> for setup instructions.\n",
       "</p>\n",
       "<p>\n",
       "  If you're reading this message in another frontend (for example, a static\n",
       "  rendering on GitHub or <a href=\"https://nbviewer.jupyter.org/\">NBViewer</a>),\n",
       "  it may mean that your frontend doesn't currently support widgets.\n",
       "</p>\n"
      ],
      "text/plain": [
       "HBox(children=(IntProgress(value=0, max=1000), HTML(value='')))"
      ]
     },
     "metadata": {},
     "output_type": "display_data"
    },
    {
     "ename": "KeyboardInterrupt",
     "evalue": "",
     "output_type": "error",
     "traceback": [
      "\u001b[0;31m---------------------------------------------------------------------------\u001b[0m",
      "\u001b[0;31mKeyboardInterrupt\u001b[0m                         Traceback (most recent call last)",
      "\u001b[0;32m<ipython-input-16-d3f3c7360213>\u001b[0m in \u001b[0;36m<module>\u001b[0;34m()\u001b[0m\n\u001b[1;32m      1\u001b[0m \u001b[0;32mfor\u001b[0m \u001b[0mi\u001b[0m \u001b[0;32min\u001b[0m \u001b[0mrange\u001b[0m\u001b[0;34m(\u001b[0m\u001b[0;36m100\u001b[0m\u001b[0;34m)\u001b[0m\u001b[0;34m:\u001b[0m\u001b[0;34m\u001b[0m\u001b[0m\n\u001b[1;32m      2\u001b[0m     \u001b[0mtrain\u001b[0m\u001b[0;34m(\u001b[0m\u001b[0mtrain_loader\u001b[0m\u001b[0;34m,\u001b[0m \u001b[0mi\u001b[0m\u001b[0;34m)\u001b[0m\u001b[0;34m\u001b[0m\u001b[0m\n\u001b[0;32m----> 3\u001b[0;31m     \u001b[0mtest\u001b[0m\u001b[0;34m(\u001b[0m\u001b[0mtest_loader\u001b[0m\u001b[0;34m)\u001b[0m\u001b[0;34m\u001b[0m\u001b[0m\n\u001b[0m",
      "\u001b[0;32m<ipython-input-15-f3b2768555c8>\u001b[0m in \u001b[0;36mtest\u001b[0;34m(loader, k, name)\u001b[0m\n\u001b[1;32m     18\u001b[0m                 \u001b[0mloss\u001b[0m\u001b[0;34m,\u001b[0m \u001b[0maccuracy\u001b[0m \u001b[0;34m=\u001b[0m \u001b[0mmodel\u001b[0m\u001b[0;34m.\u001b[0m\u001b[0mget_metrics\u001b[0m\u001b[0;34m(\u001b[0m\u001b[0mbatch\u001b[0m\u001b[0;34m,\u001b[0m \u001b[0mtarget\u001b[0m\u001b[0;34m)\u001b[0m\u001b[0;34m\u001b[0m\u001b[0m\n\u001b[1;32m     19\u001b[0m \u001b[0;34m\u001b[0m\u001b[0m\n\u001b[0;32m---> 20\u001b[0;31m                 \u001b[0mloss\u001b[0m\u001b[0;34m.\u001b[0m\u001b[0mbackward\u001b[0m\u001b[0;34m(\u001b[0m\u001b[0;34m)\u001b[0m\u001b[0;34m\u001b[0m\u001b[0m\n\u001b[0m\u001b[1;32m     21\u001b[0m                 \u001b[0moptimizer\u001b[0m\u001b[0;34m.\u001b[0m\u001b[0mstep\u001b[0m\u001b[0;34m(\u001b[0m\u001b[0;34m)\u001b[0m\u001b[0;34m\u001b[0m\u001b[0m\n\u001b[1;32m     22\u001b[0m \u001b[0;34m\u001b[0m\u001b[0m\n",
      "\u001b[0;32m~/.miniconda3/lib/python3.6/site-packages/torch/autograd/variable.py\u001b[0m in \u001b[0;36mbackward\u001b[0;34m(self, gradient, retain_graph, create_graph, retain_variables)\u001b[0m\n\u001b[1;32m    165\u001b[0m                 \u001b[0mVariable\u001b[0m\u001b[0;34m.\u001b[0m\u001b[0;34m\u001b[0m\u001b[0m\n\u001b[1;32m    166\u001b[0m         \"\"\"\n\u001b[0;32m--> 167\u001b[0;31m         \u001b[0mtorch\u001b[0m\u001b[0;34m.\u001b[0m\u001b[0mautograd\u001b[0m\u001b[0;34m.\u001b[0m\u001b[0mbackward\u001b[0m\u001b[0;34m(\u001b[0m\u001b[0mself\u001b[0m\u001b[0;34m,\u001b[0m \u001b[0mgradient\u001b[0m\u001b[0;34m,\u001b[0m \u001b[0mretain_graph\u001b[0m\u001b[0;34m,\u001b[0m \u001b[0mcreate_graph\u001b[0m\u001b[0;34m,\u001b[0m \u001b[0mretain_variables\u001b[0m\u001b[0;34m)\u001b[0m\u001b[0;34m\u001b[0m\u001b[0m\n\u001b[0m\u001b[1;32m    168\u001b[0m \u001b[0;34m\u001b[0m\u001b[0m\n\u001b[1;32m    169\u001b[0m     \u001b[0;32mdef\u001b[0m \u001b[0mregister_hook\u001b[0m\u001b[0;34m(\u001b[0m\u001b[0mself\u001b[0m\u001b[0;34m,\u001b[0m \u001b[0mhook\u001b[0m\u001b[0;34m)\u001b[0m\u001b[0;34m:\u001b[0m\u001b[0;34m\u001b[0m\u001b[0m\n",
      "\u001b[0;32m~/.miniconda3/lib/python3.6/site-packages/torch/autograd/__init__.py\u001b[0m in \u001b[0;36mbackward\u001b[0;34m(variables, grad_variables, retain_graph, create_graph, retain_variables)\u001b[0m\n\u001b[1;32m     97\u001b[0m \u001b[0;34m\u001b[0m\u001b[0m\n\u001b[1;32m     98\u001b[0m     Variable._execution_engine.run_backward(\n\u001b[0;32m---> 99\u001b[0;31m         variables, grad_variables, retain_graph)\n\u001b[0m\u001b[1;32m    100\u001b[0m \u001b[0;34m\u001b[0m\u001b[0m\n\u001b[1;32m    101\u001b[0m \u001b[0;34m\u001b[0m\u001b[0m\n",
      "\u001b[0;31mKeyboardInterrupt\u001b[0m: "
     ]
    }
   ],
   "source": [
    "for i in range(100):\n",
    "    train(train_loader, i)\n",
    "    test(test_loader)"
   ]
  },
  {
   "cell_type": "code",
   "execution_count": null,
   "metadata": {},
   "outputs": [],
   "source": [
    "for tr_data in test_loader:\n",
    "    for i in range(3):\n",
    "        for batch in tr_data[:-1]:\n",
    "            optimizer.zero_grad()\n",
    "\n",
    "            target = torch.arange(batch.shape[0]).long()\n",
    "\n",
    "            if USE_CUDA:\n",
    "                batch = batch.cuda()\n",
    "                target = target.cuda()\n",
    "\n",
    "            loss, accuracy = model.get_metrics(batch, target)        \n",
    "\n",
    "            loss.backward()\n",
    "            optimizer.step()\n",
    "\n",
    "    loss, accuracy = model.get_metrics(tr_data[-1], target)        \n",
    "\n",
    "    break"
   ]
  },
  {
   "cell_type": "code",
   "execution_count": null,
   "metadata": {},
   "outputs": [],
   "source": [
    "def test(loader, name=\"Test set\"):\n",
    "    model.eval()\n",
    "    test_loss = 0\n",
    "    correct = 0\n",
    "    for data, target in loader:\n",
    "        loss, accuracy = model.get_metrics(data, target)\n",
    "        \n",
    "        test_loss += loss.data[0] * len(data)\n",
    "        correct += accuracy * len(data)\n",
    "\n",
    "    test_loss /= len(loader.dataset)\n",
    "    print('{} | loss: {:.6f} | accuracy: {}/{} ({:.2f}%)\\n'.format(\n",
    "        name, test_loss, correct, len(loader.dataset),\n",
    "        100. * correct / len(loader.dataset)\n",
    "    ))"
   ]
  },
  {
   "cell_type": "code",
   "execution_count": null,
   "metadata": {},
   "outputs": [],
   "source": []
  },
  {
   "cell_type": "code",
   "execution_count": null,
   "metadata": {
    "scrolled": true
   },
   "outputs": [],
   "source": [
    "epoch_iter = trange(1, 5000)\n",
    "\n",
    "for epoch in epoch_iter:\n",
    "    loss, acc = train(train_loader, epoch, verbose=True)\n",
    "    epoch_iter.set_postfix_str(\"loss: {:.6f}, acc: {:.6f}\".format(loss, acc))\n",
    "    \n",
    "    # if epoch % 100 == -1:\n",
    "    # test(test_loader, \"Test set\")\n",
    "    # test(resampled_test_loader, \"Resampled test set\")"
   ]
  },
  {
   "cell_type": "code",
   "execution_count": null,
   "metadata": {
    "scrolled": false
   },
   "outputs": [],
   "source": [
    "fig, axs = plt.subplots(29, 7, figsize=(11, 50))\n",
    "predict = model.forward(Variable(batch))[1].data.numpy()[0]\n",
    "print(np.argmax(predict), class_)\n",
    "\n",
    "predict_ = np.argmax(predict)\n",
    "image = image\n",
    "\n",
    "axs[0][0].imshow(image)\n",
    "axs[0][0].set_xticks([])\n",
    "axs[0][0].set_yticks([])\n",
    "\n",
    "plt.margins(0)\n",
    "\n",
    "# heatmap -= heatmap.min()\n",
    "# heatmap /= heatmap.max()\n",
    "\n",
    "if True:\n",
    "    high = max(np.abs(heatmap.min()), np.abs(heatmap.max()))\n",
    "    low = -high\n",
    "else:\n",
    "    high = heatmap.max()\n",
    "    low = heatmap.min()\n",
    "    \n",
    "for i, (ax, img, conf) in enumerate(zip(axs.flatten()[1:], list(heatmap), predict)):\n",
    "    # ax.imshow(image)\n",
    "    \n",
    "    ax.imshow(\n",
    "        img,\n",
    "        cmap=\"seismic\",\n",
    "        vmin=low,\n",
    "        vmax=high,\n",
    "        alpha=1\n",
    "    )\n",
    "    ax.set_title(\"{}: {:.3f}{}{}\".format(i, conf, \"; T\" if i==class_ else \"\", \"; P\" if i==predict_ else \"\"))\n",
    "    ax.set_xticks([])\n",
    "    ax.set_yticks([])\n",
    "fig.tight_layout()\n",
    "\n",
    "# plt.savefig(\"fig.jpg\")"
   ]
  },
  {
   "cell_type": "code",
   "execution_count": null,
   "metadata": {},
   "outputs": [],
   "source": [
    "temp = nn.Conv2d(FEAT_NUM, num_classes, 1)"
   ]
  },
  {
   "cell_type": "code",
   "execution_count": null,
   "metadata": {},
   "outputs": [],
   "source": [
    "temp.weight.shape"
   ]
  },
  {
   "cell_type": "code",
   "execution_count": null,
   "metadata": {},
   "outputs": [],
   "source": [
    "model.dense.weight.shape"
   ]
  },
  {
   "cell_type": "code",
   "execution_count": null,
   "metadata": {},
   "outputs": [],
   "source": [
    "from collections import defaultdict\n",
    "exs = defaultdict(list)\n",
    "counts = defaultdict(int)\n",
    "\n",
    "s = DatasetFolder(\n",
    "    \"rtsd-r3/train\",\n",
    "    class_to_idx=train_loader.dataset.class_to_idx,\n",
    "    transform=transforms.Compose([\n",
    "        transforms.Resize(IMG_SIZE),\n",
    "        transforms.ToTensor(),\n",
    "    ])\n",
    ")\n",
    "\n",
    "\n",
    "for img, t in iter(s):\n",
    "    img_np = img.numpy().transpose(1, 2, 0)\n",
    "    exs[t].append(img_np)\n",
    "    counts[t] += 1"
   ]
  },
  {
   "cell_type": "code",
   "execution_count": null,
   "metadata": {
    "scrolled": true
   },
   "outputs": [],
   "source": [
    "len(exs)"
   ]
  },
  {
   "cell_type": "code",
   "execution_count": null,
   "metadata": {
    "scrolled": false
   },
   "outputs": [],
   "source": [
    "fig, axs = plt.subplots(16, 7, figsize=(11, 25))\n",
    "\n",
    "plt.margins(0)\n",
    "\n",
    "for i in exs.keys():\n",
    "    axs.flatten()[i].imshow(np.mean(exs[i]))\n",
    "    axs.flatten()[i].set_title(\"{}, total {}\".format(i, counts[i]))\n",
    "    axs.flatten()[i].set_xticks([])\n",
    "    axs.flatten()[i].set_yticks([])\n",
    "    \n",
    "# axs.flatten()[max(exs.keys()) + 1].imshow(np.mean(list(exs.values()), axis=0) / 200)\n",
    "fig.tight_layout()\n",
    "\n",
    "# plt.savefig(\"ex.jpg\")"
   ]
  }
 ],
 "metadata": {
  "kernelspec": {
   "display_name": "Python 3",
   "language": "python",
   "name": "python3"
  },
  "language_info": {
   "codemirror_mode": {
    "name": "ipython",
    "version": 3
   },
   "file_extension": ".py",
   "mimetype": "text/x-python",
   "name": "python",
   "nbconvert_exporter": "python",
   "pygments_lexer": "ipython3",
   "version": "3.6.3"
  }
 },
 "nbformat": 4,
 "nbformat_minor": 2
}
